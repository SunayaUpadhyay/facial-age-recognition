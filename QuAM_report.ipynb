{
 "cells": [
  {
   "cell_type": "markdown",
   "id": "fe76baed-9592-4cce-987d-b5975309575b",
   "metadata": {},
   "source": [
    "# Query Answering Machine "
   ]
  },
  {
   "cell_type": "markdown",
   "id": "df3e9b14-064d-4ce9-aeda-8068cd616c13",
   "metadata": {},
   "source": [
    "Our proposed approach for facial age detection is to use a combination of feature extraction techniques, including Local Binary Pattern (LBP), Scale-Invariant Feature Transform (SIFT), and Oriented FAST and Rotated BRIEF (ORB), with the K-Nearest Neighbor (KNN) algorithm. We will evaluate the accuracy of each feature extraction technique and their combination to determine their effectiveness in capturing the relevant features for age detection.\n",
    "\n",
    "In addition, we will also investigate the use of Random Forest to further improve the accuracy of our model. By comparing the accuracy of Random Forest with our current approach, we can determine if it provides any additional benefit to our age detection task."
   ]
  },
  {
   "cell_type": "markdown",
   "id": "1b3d3833-369a-4859-a38d-91e3a11e663c",
   "metadata": {},
   "source": [
    "### Using LBP features"
   ]
  },
  {
   "cell_type": "markdown",
   "id": "3905e5d0-d64f-4023-a214-e4671de5347c",
   "metadata": {},
   "source": [
    "Local Binary Pattern (LBP) features are effective in facial age detection because they capture the texture and pattern information from facial images. It extract information about the local variations in an image by comparing the intensity values of a central pixel with its neighboring pixels."
   ]
  },
  {
   "cell_type": "markdown",
   "id": "c78f465e-c2d7-4a26-b6a7-764c13e7c739",
   "metadata": {},
   "source": [
    "#### K-NN "
   ]
  },
  {
   "cell_type": "code",
   "execution_count": 29,
   "id": "093b10fa-cc8b-4e46-962b-84f86052d774",
   "metadata": {},
   "outputs": [
    {
     "name": "stdout",
     "output_type": "stream",
     "text": [
      "Accuracy score on testing set using only LBP features: 0.36\n",
      "Accuracy score on training set using only LBP features: 0.57\n"
     ]
    }
   ],
   "source": [
    "from sklearn.metrics import accuracy_score\n",
    "from sklearn.neighbors import KNeighborsClassifier\n",
    "import warnings\n",
    "warnings.filterwarnings(\"ignore\")\n",
    "\n",
    "classifier = KNeighborsClassifier(n_neighbors=5)\n",
    "\n",
    "# Train the classifier using only LBP features\n",
    "classifier.fit(LBP_features_train, Y_train)\n",
    "\n",
    "# Make predictions using only LBP features and evaluate the accuracy on the testing set\n",
    "Y_pred_test = classifier.predict(LBP_features_test)\n",
    "accuracy_test = accuracy_score(Y_test, Y_pred_test)\n",
    "print(f\"Accuracy score on testing set using only LBP features: {accuracy_test:.2f}\")\n",
    "\n",
    "# Make predictions using only LBP features and evaluate the accuracy on the training set\n",
    "Y_pred_train = classifier.predict(LBP_features_train)\n",
    "accuracy_train = accuracy_score(Y_train, Y_pred_train)\n",
    "print(f\"Accuracy score on training set using only LBP features: {accuracy_train:.2f}\")"
   ]
  },
  {
   "cell_type": "code",
   "execution_count": 30,
   "id": "cc21024d-e398-4fbf-b5f5-a87275365eb3",
   "metadata": {},
   "outputs": [
    {
     "data": {
      "image/png": "[encoded data removed]",
      "text/plain": [
       "<Figure size 640x480 with 2 Axes>"
      ]
     },
     "metadata": {},
     "output_type": "display_data"
    }
   ],
   "source": [
    "import seaborn as sns\n",
    "from sklearn.metrics import accuracy_score, confusion_matrix\n",
    "# Generate the confusion matrix for the testing set\n",
    "cm = confusion_matrix(Y_test, Y_pred_test)\n",
    "\n",
    "# Plot the confusion matrix using Seaborn\n",
    "sns.heatmap(cm, annot=True, cmap='Blues', fmt='g')\n",
    "plt.title('Confusion Matrix')\n",
    "plt.xlabel('Predicted Labels')\n",
    "plt.ylabel('True Labels')\n",
    "plt.show()"
   ]
  },
  {
   "cell_type": "markdown",
   "id": "f36dcfbf-b6f7-417f-bdb7-140ad6bdfe88",
   "metadata": {},
   "source": [
    "It's worth noting that in this specific problem, the training and testing scores are very similar. K-Nearest Neighbors (KNN) is a type of instance-based learning algorithm that classifies new examples based on their similarity to training examples. \n",
    "\n",
    "When the differences between classes are subtle, KNN can be less effective than other algorithms. In such cases, it may be worth exploring other approaches, such as Random Forest, which is better suited for larger datasets with many features and can achieve better performance than KNN. "
   ]
  },
  {
   "cell_type": "markdown",
   "id": "623ca064-7039-410a-8d5a-d6c65464ad46",
   "metadata": {},
   "source": [
    "#### Random Forest"
   ]
  },
  {
   "cell_type": "code",
   "execution_count": 31,
   "id": "5aeed72e-6939-489e-beac-cee4413298c6",
   "metadata": {},
   "outputs": [
    {
     "name": "stdout",
     "output_type": "stream",
     "text": [
      "Accuracy score on testing set using only LBP features: 0.39\n",
      "Accuracy score on training set using only LBP features: 1.00\n"
     ]
    }
   ],
   "source": [
    "from sklearn.ensemble import RandomForestClassifier\n",
    "\n",
    "# Create a Random Forest classifier\n",
    "clf = RandomForestClassifier(n_estimators=20, random_state=99)\n",
    "\n",
    "# Train the classifier on the ORB features of the training set\n",
    "clf.fit(LBP_features_train, Y_train)\n",
    "\n",
    "# Make predictions using only LBP features and evaluate the accuracy on the testing set\n",
    "Y_pred_test = clf.predict(LBP_features_test)\n",
    "accuracy_test = accuracy_score(Y_test, Y_pred_test)\n",
    "print(f\"Accuracy score on testing set using only LBP features: {accuracy_test:.2f}\")\n",
    "\n",
    "# Make predictions using only LBP features and evaluate the accuracy on the training set\n",
    "Y_pred_train = clf.predict(LBP_features_train)\n",
    "accuracy_train = accuracy_score(Y_train, Y_pred_train)\n",
    "print(f\"Accuracy score on training set using only LBP features: {accuracy_train:.2f}\")"
   ]
  },
  {
   "cell_type": "code",
   "execution_count": 32,
   "id": "08d6ae4b-3452-4b91-8067-986a5bee57f9",
   "metadata": {},
   "outputs": [
    {
     "name": "stdout",
     "output_type": "stream",
     "text": [
      "Accuracy score on testing set using only LBP features: 0.37\n",
      "Accuracy score on training set using only LBP features: 0.94\n"
     ]
    }
   ],
   "source": [
    "# Create a Random Forest classifier\n",
    "clf = RandomForestClassifier(max_depth=15, n_estimators=20, random_state=99, max_features=0.7,max_samples=0.65)\n",
    "\n",
    "# Train the classifier on the ORB features of the training set\n",
    "clf.fit(LBP_features_train, Y_train)\n",
    "\n",
    "# Make predictions using only LBP features and evaluate the accuracy on the testing set\n",
    "Y_pred_test = clf.predict(LBP_features_test)\n",
    "accuracy_test = accuracy_score(Y_test, Y_pred_test)\n",
    "print(f\"Accuracy score on testing set using only LBP features: {accuracy_test:.2f}\")\n",
    "\n",
    "# Make predictions using only LBP features and evaluate the accuracy on the training set\n",
    "Y_pred_train = clf.predict(LBP_features_train)\n",
    "accuracy_train = accuracy_score(Y_train, Y_pred_train)\n",
    "print(f\"Accuracy score on training set using only LBP features: {accuracy_train:.2f}\")"
   ]
  },
  {
   "cell_type": "markdown",
   "id": "977e6bda-f3c0-4848-ac28-fd8c2acbcaea",
   "metadata": {},
   "source": [
    "We try the Random Forest with different parameters to see if there's any change in accuracy. And this is the best we could do for the testing set. "
   ]
  },
  {
   "cell_type": "markdown",
   "id": "c03dfb79-e053-4597-b060-768d4a29ccee",
   "metadata": {},
   "source": [
    "### Using ORB features"
   ]
  },
  {
   "cell_type": "markdown",
   "id": "218dd731-a66d-4b4a-867f-386c80962f6b",
   "metadata": {},
   "source": [
    "#### KNN "
   ]
  },
  {
   "cell_type": "code",
   "execution_count": 33,
   "id": "861396ef-eef7-4f50-93fc-a7765205659a",
   "metadata": {},
   "outputs": [
    {
     "name": "stdout",
     "output_type": "stream",
     "text": [
      "Accuracy score on testing set using only ORB features: 0.36\n",
      "Accuracy score on training set using only ORB features: 0.57\n"
     ]
    }
   ],
   "source": [
    "# Initialize the KNN classifier\n",
    "classifier = KNeighborsClassifier(n_neighbors=5)\n",
    "\n",
    "# Train the classifier using only ORB features\n",
    "classifier.fit(ORB_features_train, Y_train)\n",
    "\n",
    "# Make predictions using only ORB features and evaluate the accuracy on the testing set\n",
    "Y_pred_test = classifier.predict(ORB_features_test)\n",
    "accuracy_test = accuracy_score(Y_test, Y_pred_test)\n",
    "print(f\"Accuracy score on testing set using only ORB features: {accuracy_test:.2f}\")\n",
    "\n",
    "# Make predictions using only ORB features and evaluate the accuracy on the training set\n",
    "Y_pred_train = classifier.predict(ORB_features_train)\n",
    "accuracy_train = accuracy_score(Y_train, Y_pred_train)\n",
    "print(f\"Accuracy score on training set using only ORB features: {accuracy_train:.2f}\")"
   ]
  },
  {
   "cell_type": "markdown",
   "id": "5e805be8-0b11-4b2d-a34a-c604c02309d2",
   "metadata": {},
   "source": [
    "We see that it's a similar case when using KNN with ORB features too."
   ]
  },
  {
   "cell_type": "markdown",
   "id": "ca475d69-0559-40fb-9166-ab1218b8428d",
   "metadata": {},
   "source": [
    "#### Random Forest"
   ]
  },
  {
   "cell_type": "code",
   "execution_count": 34,
   "id": "0f809298-e2c4-4927-8f42-c322b457a92e",
   "metadata": {},
   "outputs": [
    {
     "name": "stdout",
     "output_type": "stream",
     "text": [
      "Accuracy score on testing set using only ORB features: 0.40\n",
      "Accuracy score on training set using only ORB features: 0.99\n"
     ]
    }
   ],
   "source": [
    "# Create a Random Forest classifier\n",
    "clf = RandomForestClassifier(n_estimators=100, random_state=99)\n",
    "\n",
    "# Train the classifier on the ORB features of the training set\n",
    "clf.fit(ORB_features_train, Y_train)\n",
    "\n",
    "# Make predictions using only ORB features and evaluate the accuracy on the testing set\n",
    "Y_pred_test = clf.predict(ORB_features_test)\n",
    "accuracy_test = accuracy_score(Y_test, Y_pred_test)\n",
    "print(f\"Accuracy score on testing set using only ORB features: {accuracy_test:.2f}\")\n",
    "\n",
    "# Make predictions using only ORB features and evaluate the accuracy on the training set\n",
    "Y_pred_train = clf.predict(ORB_features_train)\n",
    "accuracy_train = accuracy_score(Y_train, Y_pred_train)\n",
    "print(f\"Accuracy score on training set using only ORB features: {accuracy_train:.2f}\")"
   ]
  },
  {
   "cell_type": "markdown",
   "id": "d57657d1-396a-4f68-9d15-f11bbf6f4a87",
   "metadata": {},
   "source": [
    "We can see that the two featuers LBP and ORB yeild similar results."
   ]
  },
  {
   "cell_type": "markdown",
   "id": "1b30616a-81fb-449b-baae-03ae67b94fcd",
   "metadata": {},
   "source": [
    "### SIFT"
   ]
  },
  {
   "cell_type": "markdown",
   "id": "e939bb82-21a8-47ac-9892-eaaab6df5d85",
   "metadata": {},
   "source": [
    "Let us look at SIFT just for the sake of it."
   ]
  },
  {
   "cell_type": "markdown",
   "id": "2a888912-194c-4a3f-9bd5-6caabc123686",
   "metadata": {},
   "source": [
    "#### KNN"
   ]
  },
  {
   "cell_type": "code",
   "execution_count": 58,
   "id": "3d2d4da8-b953-4b7b-b72f-c12407c734be",
   "metadata": {},
   "outputs": [
    {
     "ename": "NameError",
     "evalue": "name 'SIFT_features_train' is not defined",
     "output_type": "error",
     "traceback": [
      "\u001b[1;31m---------------------------------------------------------------------------\u001b[0m",
      "\u001b[1;31mNameError\u001b[0m                                 Traceback (most recent call last)",
      "\u001b[1;32m~\\AppData\\Local\\Temp\\ipykernel_10148\\3666930946.py\u001b[0m in \u001b[0;36m<module>\u001b[1;34m\u001b[0m\n\u001b[0;32m      3\u001b[0m \u001b[1;33m\u001b[0m\u001b[0m\n\u001b[0;32m      4\u001b[0m \u001b[1;31m# Train the classifier using only SIFT features\u001b[0m\u001b[1;33m\u001b[0m\u001b[1;33m\u001b[0m\u001b[0m\n\u001b[1;32m----> 5\u001b[1;33m \u001b[0mclassifier\u001b[0m\u001b[1;33m.\u001b[0m\u001b[0mfit\u001b[0m\u001b[1;33m(\u001b[0m\u001b[0mSIFT_features_train\u001b[0m\u001b[1;33m,\u001b[0m \u001b[0mY_train\u001b[0m\u001b[1;33m)\u001b[0m\u001b[1;33m\u001b[0m\u001b[1;33m\u001b[0m\u001b[0m\n\u001b[0m\u001b[0;32m      6\u001b[0m \u001b[1;33m\u001b[0m\u001b[0m\n\u001b[0;32m      7\u001b[0m \u001b[1;31m# Make predictions using only SIFT features and evaluate the accuracy on the testing set\u001b[0m\u001b[1;33m\u001b[0m\u001b[1;33m\u001b[0m\u001b[0m\n",
      "\u001b[1;31mNameError\u001b[0m: name 'SIFT_features_train' is not defined"
     ]
    }
   ],
   "source": [
    "# Initialize the KNN classifier\n",
    "classifier = KNeighborsClassifier(n_neighbors=5)\n",
    "\n",
    "# Train the classifier using only SIFT features\n",
    "classifier.fit(SIFT_features_train, Y_train)\n",
    "\n",
    "# Make predictions using only SIFT features and evaluate the accuracy on the testing set\n",
    "Y_pred_test = classifier.predict(SIFT_features_test)\n",
    "accuracy_test = accuracy_score(Y_test, Y_pred_test)\n",
    "print(f\"Accuracy score on testing set using only SIFT features: {accuracy_test:.2f}\")\n",
    "\n",
    "# Make predictions using only SIFT features and evaluate the accuracy on the training set\n",
    "Y_pred_train = classifier.predict(SIFT_features_train)\n",
    "accuracy_train = accuracy_score(Y_train, Y_pred_train)\n",
    "print(f\"Accuracy score on training set using only SIFT features: {accuracy_train:.2f}\")"
   ]
  },
  {
   "cell_type": "markdown",
   "id": "5cd3d9dc-8793-4519-86d2-a159c43d371c",
   "metadata": {},
   "source": [
    "#### Random Forest"
   ]
  },
  {
   "cell_type": "code",
   "execution_count": 32,
   "id": "080d71b4-4a18-4676-a799-3f4f857a72d9",
   "metadata": {},
   "outputs": [
    {
     "name": "stdout",
     "output_type": "stream",
     "text": [
      "Accuracy score on testing set using only SIFT features: 0.54\n",
      "Accuracy score on training set using only SIFT features: 0.99\n"
     ]
    }
   ],
   "source": [
    "# Create a Random Forest classifier\n",
    "clf = RandomForestClassifier(n_estimators=100, random_state=99)\n",
    "\n",
    "# Train the classifier on the ORB features of the training set\n",
    "clf.fit(SIFT_features_train, Y_train)\n",
    "\n",
    "# Make predictions using only SIFT features and evaluate the accuracy on the testing set\n",
    "Y_pred_test = clf.predict(SIFT_features_test)\n",
    "accuracy_test = accuracy_score(Y_test, Y_pred_test)\n",
    "print(f\"Accuracy score on testing set using only SIFT features: {accuracy_test:.2f}\")\n",
    "\n",
    "# Make predictions using only SIFT features and evaluate the accuracy on the training set\n",
    "Y_pred_train = clf.predict(SIFT_features_train)\n",
    "accuracy_train = accuracy_score(Y_train, Y_pred_train)\n",
    "print(f\"Accuracy score on training set using only SIFT features: {accuracy_train:.2f}\")"
   ]
  },
  {
   "cell_type": "markdown",
   "id": "3500b024-284e-48e6-b8b2-6c0085ce2ab4",
   "metadata": {},
   "source": [
    "Seems to be a similar case of overfitting."
   ]
  },
  {
   "cell_type": "markdown",
   "id": "647a9e3b-623c-43c7-9311-878e90f1066a",
   "metadata": {},
   "source": [
    "### ALL features"
   ]
  },
  {
   "cell_type": "markdown",
   "id": "165a2944-ce5b-4fdc-85b1-2b6bb0c765dd",
   "metadata": {},
   "source": [
    "Now we will make use of all the combined features and see how KNN works with it."
   ]
  },
  {
   "cell_type": "markdown",
   "id": "b3991605-0e05-4c58-a411-802a66315339",
   "metadata": {},
   "source": [
    "### Iteration 1"
   ]
  },
  {
   "cell_type": "markdown",
   "id": "8645b79c-63ef-4d14-ad39-ef207341582a",
   "metadata": {},
   "source": [
    "#### KNN"
   ]
  },
  {
   "cell_type": "markdown",
   "id": "75feb26b-1570-421f-a743-22f32fdf1bb2",
   "metadata": {},
   "source": [
    "KNN is a good choice for this task because it can handle non-linear relationships between the features and the target variable. Additionally, since we are working with image data, it is difficult to extract meaningful features manually. KNN is a non-parametric method that doesn't make any assumptions about the underlying distribution of the data, which makes it suitable for this task."
   ]
  },
  {
   "cell_type": "code",
   "execution_count": 99,
   "id": "5e7752e5-0a78-486e-9b97-ae81cd131efe",
   "metadata": {},
   "outputs": [
    {
     "name": "stdout",
     "output_type": "stream",
     "text": [
      "Accuracy score on testing set using all features: 0.38\n",
      "Accuracy score on training set using all features: 0.55\n"
     ]
    }
   ],
   "source": [
    "# Initialize the KNN classifier\n",
    "classifier = KNeighborsClassifier(n_neighbors=5)\n",
    "\n",
    "# Train the classifier using all features\n",
    "classifier.fit(all_features_train, Y_train)\n",
    "\n",
    "# Make predictions using  all features and evaluate the accuracy on the testing set\n",
    "Y_pred_test = classifier.predict(all_features_test)\n",
    "accuracy_test = accuracy_score(Y_test, Y_pred_test)\n",
    "print(f\"Accuracy score on testing set using all features: {accuracy_test:.2f}\")\n",
    "\n",
    "# Make predictions using only SIFT features and evaluate the accuracy on the training set\n",
    "Y_pred_train = classifier.predict(all_features_train)\n",
    "accuracy_train = accuracy_score(Y_train, Y_pred_train)\n",
    "print(f\"Accuracy score on training set using all features: {accuracy_train:.2f}\")"
   ]
  },
  {
   "cell_type": "markdown",
   "id": "4c4aeb14-1b98-4208-b68d-4b4a1e42e52c",
   "metadata": {},
   "source": [
    "We are using KNN with a range of values for the number of neighbors (k). We are performing a grid search over the hyperparameter space to find the best value of k that gives the highest accuracy on the validation set. We are using 10-fold cross-validation to ensure that the results are not biased towards a particular subset of the data. We are using the accuracy metric to evaluate the performance of the model."
   ]
  },
  {
   "cell_type": "code",
   "execution_count": 119,
   "id": "ae50083c-dacd-42a1-8189-b2d1ea0e5b04",
   "metadata": {},
   "outputs": [
    {
     "name": "stdout",
     "output_type": "stream",
     "text": [
      "k = 3 mean accuracy = 0.3830 std accuracy = 0.0607\n",
      "k = 5 mean accuracy = 0.3950 std accuracy = 0.0484\n",
      "k = 7 mean accuracy = 0.3900 std accuracy = 0.0593\n",
      "k = 11 mean accuracy = 0.3740 std accuracy = 0.0594\n",
      "k = 13 mean accuracy = 0.3710 std accuracy = 0.0528\n"
     ]
    }
   ],
   "source": [
    "from sklearn.model_selection import GridSearchCV\n",
    "\n",
    "k_values = [3, 5, 7, 11, 13]\n",
    "\n",
    "# Define the parameter grid for grid search\n",
    "param_grid = {'n_neighbors': k_values}\n",
    "\n",
    "# Perform grid search with 10-fold cross validation\n",
    "grid_search = GridSearchCV(KNeighborsClassifier(), param_grid, cv=10, scoring='accuracy')\n",
    "grid_search.fit(all_features_train[0:1000], Y_train[0:1000])\n",
    "\n",
    "# Print the results\n",
    "cv_results = grid_search.cv_results_\n",
    "for mean_score, std_score, k in zip(cv_results['mean_test_score'], cv_results['std_test_score'], cv_results['params']):\n",
    "    print(\"k = %d mean accuracy = %0.4f std accuracy = %0.4f\" % (k['n_neighbors'], mean_score, std_score))"
   ]
  },
  {
   "cell_type": "markdown",
   "id": "b8f38981-c0e1-4c6c-bbde-d17793a8cb1b",
   "metadata": {},
   "source": [
    "After training the KNN model, we achieved an accuracy score of ~0.39 on the testing set. This is a relatively low accuracy score, indicating that the model is not performing very well on this task. "
   ]
  },
  {
   "cell_type": "markdown",
   "id": "14e8c256-bdce-46fe-84df-4a28403417d5",
   "metadata": {},
   "source": [
    "We can conclude that KNN may not be the best choice for facial age recognition, given the low accuracy score. We could try using more powerful classifiers such as Support Random Forest to see if we can improve the performance."
   ]
  },
  {
   "cell_type": "markdown",
   "id": "e81deabe-5ac4-416a-829d-522758f3086f",
   "metadata": {},
   "source": [
    "### Iteration 2"
   ]
  },
  {
   "cell_type": "markdown",
   "id": "e9483d99-44d6-4b86-9ae4-e67e68143719",
   "metadata": {},
   "source": [
    "In this case, we are using Random Forest to perform facial age recognition. We have previously used KNN for this task, but we want to compare the performance of different algorithms to see which one works best for our dataset."
   ]
  },
  {
   "cell_type": "markdown",
   "id": "290cc037-6d04-4be2-8fb6-8e86fa880e5e",
   "metadata": {},
   "source": [
    "We use the same training and testing data that we used in the KNN algorithm to ensure a fair comparison."
   ]
  },
  {
   "cell_type": "markdown",
   "id": "e4ccfe40-1e25-4a07-b5fb-e379941058ba",
   "metadata": {},
   "source": [
    "#### Random Forest"
   ]
  },
  {
   "cell_type": "markdown",
   "id": "dd1980d8-ac6c-4146-868e-9563c91512bd",
   "metadata": {},
   "source": [
    "We set the number of estimators to 100, which is a typical value for this parameter, and the random state to 99 to ensure reproducibility. We also perform a grid search to find the best hyperparameters for the Random Forest classifier, including the maximum depth of the trees and the number of estimators. We use 5-fold cross-validation to ensure a fair evaluation of the model."
   ]
  },
  {
   "cell_type": "code",
   "execution_count": 121,
   "id": "5d57240f-fa37-46d7-9f3b-d2e84cba7b30",
   "metadata": {},
   "outputs": [
    {
     "name": "stdout",
     "output_type": "stream",
     "text": [
      "Accuracy score on testing set using all features: 0.32\n",
      "Accuracy score on training set using all features: 1.00\n"
     ]
    }
   ],
   "source": [
    "# Create a Random Forest classifier\n",
    "clf = RandomForestClassifier(n_estimators=100, random_state=99)\n",
    "\n",
    "# Train the classifier on the ORB features of the training set\n",
    "clf.fit(all_features_train[0:1000], Y_train[0:1000])\n",
    "\n",
    "# Make predictions using  all features and evaluate the accuracy on the testing set\n",
    "Y_pred_test = clf.predict(all_features_test[0:1000])\n",
    "accuracy_test = accuracy_score(Y_test[0:1000], Y_pred_test[0:1000])\n",
    "print(f\"Accuracy score on testing set using all features: {accuracy_test:.2f}\")\n",
    "\n",
    "# Make predictions using only SIFT features and evaluate the accuracy on the training set\n",
    "Y_pred_train = clf.predict(all_features_train[0:1000])\n",
    "accuracy_train = accuracy_score(Y_train[0:1000], Y_pred_train[0:1000])\n",
    "print(f\"Accuracy score on training set using all features: {accuracy_train:.2f}\")"
   ]
  },
  {
   "cell_type": "code",
   "execution_count": 122,
   "id": "7d17a7ce-99d0-4b1e-9748-99794050f635",
   "metadata": {},
   "outputs": [
    {
     "name": "stdout",
     "output_type": "stream",
     "text": [
      "Best hyperparameters: {'max_depth': 5, 'n_estimators': 250}\n",
      "Accuracy score: 0.48100000000000004\n"
     ]
    }
   ],
   "source": [
    "from sklearn.model_selection import GridSearchCV\n",
    "\n",
    "# Create a Random Forest classifier\n",
    "clf = RandomForestClassifier(n_estimators=100, random_state=99)\n",
    "\n",
    "# Define the parameter grid to search over\n",
    "param_grid = {\n",
    "    'max_depth': [5, 10, 15, 20, 25],\n",
    "    'n_estimators': [50, 100, 150, 200, 250]\n",
    "}\n",
    "\n",
    "# Perform grid search cross-validation\n",
    "grid_search = GridSearchCV(clf, param_grid=param_grid, cv=5)\n",
    "grid_search.fit(all_features_train[0:1000], Y_train[0:1000])\n",
    "\n",
    "print(\"Best hyperparameters:\", grid_search.best_params_)\n",
    "print(\"Accuracy score:\", grid_search.best_score_)"
   ]
  },
  {
   "cell_type": "markdown",
   "id": "9b2b7546-45dd-4fe8-8e94-bc95632f89ed",
   "metadata": {},
   "source": [
    "We could only use limited number of data because it took too long to process the whole data and our computer didn't have enough memory to run with all the features"
   ]
  },
  {
   "cell_type": "markdown",
   "id": "96ba2f18-63cd-4e4a-8f50-d71c5d3b72ef",
   "metadata": {},
   "source": [
    "Lessons learnt:\n",
    "\n",
    "- Random Forest performs better than KNN for facial age recognition in this case, achieving an accuracy score of around ~0.48 on the testing set.\n",
    "- Random Forest is able to handle the high dimensional feature vectors, but it still struggles to accurately classify ages from the images.\n",
    "- The performance of the Random Forest classifier could potentially be improved by including more advanced feature extraction techniques or by using a different algorithm entirely."
   ]
  },
  {
   "cell_type": "markdown",
   "id": "3b862c06-3aaf-4f32-a523-195226b57bb5",
   "metadata": {},
   "source": [
    "### Iteration 3"
   ]
  },
  {
   "cell_type": "markdown",
   "id": "ec2248ef-64d5-4142-95a2-be9f3fb62534",
   "metadata": {},
   "source": [
    "### CNN"
   ]
  },
  {
   "cell_type": "markdown",
   "id": "6028f890-7d89-4d9c-86f5-dd85ef08f595",
   "metadata": {},
   "source": [
    "We have already explored KNN and Random Forest algorithms for facial classification, but we found that they were not suitable for this specific problem because the classes themselves are very similar. Furthermore, CNNs have several advantages over traditional machine learning algorithms for image-based classification tasks, including the ability to learn complex, hierarchical features directly from the raw image data and the ability to handle variations in image appearance."
   ]
  },
  {
   "cell_type": "code",
   "execution_count": 35,
   "id": "2445ad19-1b84-46f7-9a85-88b281a577c4",
   "metadata": {},
   "outputs": [],
   "source": [
    "from sklearn.model_selection import train_test_split\n",
    "\n",
    "X_train, X_test, Y_train, Y_test = train_test_split(images, df_labels, test_size=0.25, random_state=99)"
   ]
  },
  {
   "cell_type": "markdown",
   "id": "66d48295-c2a0-4c8c-b870-645166c47000",
   "metadata": {},
   "source": [
    "First we'll use only a limited amount of dataset to test what parameter for CNN will give us the best result. Once we have the best parameters to use, then we will train the model and export it."
   ]
  },
  {
   "cell_type": "code",
   "execution_count": 36,
   "id": "b27c978f-5f7c-480a-9872-368374d051f7",
   "metadata": {},
   "outputs": [
    {
     "name": "stdout",
     "output_type": "stream",
     "text": [
      "Model: \"sequential\"\n",
      "_________________________________________________________________\n",
      " Layer (type)                Output Shape              Param #   \n",
      "=================================================================\n",
      " conv2d (Conv2D)             (None, 254, 254, 32)      896       \n",
      "                                                                 \n",
      " max_pooling2d (MaxPooling2D  (None, 127, 127, 32)     0         \n",
      " )                                                               \n",
      "                                                                 \n",
      " conv2d_1 (Conv2D)           (None, 125, 125, 64)      18496     \n",
      "                                                                 \n",
      " max_pooling2d_1 (MaxPooling  (None, 62, 62, 64)       0         \n",
      " 2D)                                                             \n",
      "                                                                 \n",
      " conv2d_2 (Conv2D)           (None, 60, 60, 128)       73856     \n",
      "                                                                 \n",
      " max_pooling2d_2 (MaxPooling  (None, 30, 30, 128)      0         \n",
      " 2D)                                                             \n",
      "                                                                 \n",
      " dropout (Dropout)           (None, 30, 30, 128)       0         \n",
      "                                                                 \n",
      " flatten (Flatten)           (None, 115200)            0         \n",
      "                                                                 \n",
      " dense (Dense)               (None, 128)               14745728  \n",
      "                                                                 \n",
      " dense_1 (Dense)             (None, 3)                 387       \n",
      "                                                                 \n",
      "=================================================================\n",
      "Total params: 14,839,363\n",
      "Trainable params: 14,839,363\n",
      "Non-trainable params: 0\n",
      "_________________________________________________________________\n"
     ]
    }
   ],
   "source": [
    "import tensorflow as tf\n",
    "\n",
    "from keras.models import Sequential\n",
    "from keras.layers import Conv2D, MaxPooling2D, Flatten, Dense, Dropout\n",
    "from keras.utils import np_utils\n",
    "\n",
    "input_shape = (256, 256, 3)\n",
    "num_classes = 3\n",
    "\n",
    "# Define CNN architecture\n",
    "\n",
    "model = tf.keras.models.Sequential()\n",
    "model.add(Conv2D(32, (3, 3), activation='relu', input_shape=input_shape))\n",
    "model.add(MaxPooling2D((2, 2)))\n",
    "model.add(Conv2D(64, (3, 3), activation='relu'))\n",
    "model.add(MaxPooling2D((2, 2)))\n",
    "model.add(Conv2D(128, (3, 3), activation='relu'))\n",
    "model.add(MaxPooling2D((2, 2)))\n",
    "model.add(Dropout(0.25))\n",
    "model.add(Flatten())\n",
    "model.add(Dense(128, activation='relu'))\n",
    "model.add(Dense(num_classes, activation='softmax'))\n",
    "model.summary()\n"
   ]
  },
  {
   "cell_type": "code",
   "execution_count": 37,
   "id": "b4d004ab-1a2f-418b-bc34-7d61f26798ab",
   "metadata": {},
   "outputs": [],
   "source": [
    "num_of_images = len(X_train)\n",
    "X_train_reshaped = np.empty((num_of_images, 256, 256, 3), dtype=np.uint8)\n",
    "\n",
    "# Iterate over each tuple in X_train and assign the image_array to the corresponding position in X_train_reshaped\n",
    "for i, (image_id, image_array) in enumerate(X_train):\n",
    "    X_train_reshaped[i] = image_array[:256, :256, :3]\n",
    "\n",
    "num_of_images = len(X_test)\n",
    "X_test_reshaped = np.empty((num_of_images, 256, 256, 3), dtype=np.uint8)\n",
    "\n",
    "# Iterate over each tuple in X_train and assign the image_array to the corresponding position in X_train_reshaped\n",
    "for i, (image_id, image_array) in enumerate(X_test):\n",
    "    X_test_reshaped[i] = image_array[:256, :256, :3]\n"
   ]
  },
  {
   "cell_type": "code",
   "execution_count": 38,
   "id": "5d8827d6-ab2e-4ec7-a292-361ef897e87c",
   "metadata": {},
   "outputs": [],
   "source": [
    "X_train = X_train_reshaped\n",
    "X_test = X_test_reshaped\n",
    "Y_train = np_utils.to_categorical(Y_train, 3)\n",
    "Y_test = np_utils.to_categorical(Y_test, 3)"
   ]
  },
  {
   "cell_type": "code",
   "execution_count": 39,
   "id": "0f5482f4-9192-4d14-9848-7ab6f38cbbd2",
   "metadata": {},
   "outputs": [],
   "source": [
    "model.compile(loss='categorical_crossentropy', \n",
    "                  optimizer='adam', metrics=['accuracy'])"
   ]
  },
  {
   "cell_type": "code",
   "execution_count": 40,
   "id": "ae5c07e0-6057-4c06-8322-249b3179ec2d",
   "metadata": {},
   "outputs": [
    {
     "name": "stdout",
     "output_type": "stream",
     "text": [
      "Epoch 1/20\n",
      "87/87 - 189s - loss: 68.4090 - accuracy: 0.3720 - val_loss: 1.0953 - val_accuracy: 0.3640 - 189s/epoch - 2s/step\n",
      "Epoch 2/20\n",
      "87/87 - 192s - loss: 1.0634 - accuracy: 0.4400 - val_loss: 1.0795 - val_accuracy: 0.4169 - 192s/epoch - 2s/step\n",
      "Epoch 3/20\n",
      "87/87 - 187s - loss: 1.0203 - accuracy: 0.4805 - val_loss: 1.0772 - val_accuracy: 0.4496 - 187s/epoch - 2s/step\n",
      "Epoch 4/20\n",
      "87/87 - 191s - loss: 0.9527 - accuracy: 0.5328 - val_loss: 1.1044 - val_accuracy: 0.4649 - 191s/epoch - 2s/step\n",
      "Epoch 5/20\n",
      "87/87 - 186s - loss: 0.8523 - accuracy: 0.6073 - val_loss: 1.1942 - val_accuracy: 0.4240 - 186s/epoch - 2s/step\n",
      "Epoch 6/20\n",
      "87/87 - 187s - loss: 0.7567 - accuracy: 0.6598 - val_loss: 1.1780 - val_accuracy: 0.4817 - 187s/epoch - 2s/step\n",
      "Epoch 7/20\n",
      "87/87 - 197s - loss: 0.6354 - accuracy: 0.7123 - val_loss: 1.2912 - val_accuracy: 0.5150 - 197s/epoch - 2s/step\n",
      "Epoch 8/20\n",
      "87/87 - 191s - loss: 0.5567 - accuracy: 0.7599 - val_loss: 1.4832 - val_accuracy: 0.4959 - 191s/epoch - 2s/step\n",
      "Epoch 9/20\n",
      "87/87 - 195s - loss: 0.5074 - accuracy: 0.7875 - val_loss: 1.6954 - val_accuracy: 0.4817 - 195s/epoch - 2s/step\n",
      "Epoch 10/20\n",
      "87/87 - 188s - loss: 0.3723 - accuracy: 0.8541 - val_loss: 1.8643 - val_accuracy: 0.4883 - 188s/epoch - 2s/step\n",
      "Epoch 11/20\n",
      "87/87 - 184s - loss: 0.3327 - accuracy: 0.8687 - val_loss: 1.8971 - val_accuracy: 0.4948 - 184s/epoch - 2s/step\n",
      "Epoch 12/20\n",
      "87/87 - 183s - loss: 0.2883 - accuracy: 0.8941 - val_loss: 2.0410 - val_accuracy: 0.4828 - 183s/epoch - 2s/step\n",
      "Epoch 13/20\n",
      "87/87 - 186s - loss: 0.2065 - accuracy: 0.9281 - val_loss: 2.1732 - val_accuracy: 0.4741 - 186s/epoch - 2s/step\n",
      "Epoch 14/20\n",
      "87/87 - 184s - loss: 0.1978 - accuracy: 0.9335 - val_loss: 2.3512 - val_accuracy: 0.4801 - 184s/epoch - 2s/step\n",
      "Epoch 15/20\n",
      "87/87 - 192s - loss: 0.1601 - accuracy: 0.9451 - val_loss: 2.3320 - val_accuracy: 0.5046 - 192s/epoch - 2s/step\n",
      "Epoch 16/20\n",
      "87/87 - 208s - loss: 0.1176 - accuracy: 0.9619 - val_loss: 2.6665 - val_accuracy: 0.5030 - 208s/epoch - 2s/step\n",
      "Epoch 17/20\n",
      "87/87 - 195s - loss: 0.1229 - accuracy: 0.9597 - val_loss: 2.8162 - val_accuracy: 0.4959 - 195s/epoch - 2s/step\n",
      "Epoch 18/20\n",
      "87/87 - 190s - loss: 0.0963 - accuracy: 0.9702 - val_loss: 2.9062 - val_accuracy: 0.4866 - 190s/epoch - 2s/step\n",
      "Epoch 19/20\n",
      "87/87 - 202s - loss: 0.0818 - accuracy: 0.9717 - val_loss: 3.1247 - val_accuracy: 0.4883 - 202s/epoch - 2s/step\n",
      "Epoch 20/20\n",
      "87/87 - 190s - loss: 0.0833 - accuracy: 0.9728 - val_loss: 3.2774 - val_accuracy: 0.5128 - 190s/epoch - 2s/step\n",
      "\n",
      "\n",
      "Training time: 22189.453 sec\n",
      "\n",
      "Test score: 3.2773995399475098\n",
      "Test accuracy: 0.5128065347671509\n"
     ]
    }
   ],
   "source": [
    "import time\n",
    "# Train\n",
    "batch_size = 64\n",
    "epochs = 20\n",
    "\n",
    "start_time = time.process_time()\n",
    "        \n",
    "training = model.fit(X_train, Y_train, \n",
    "                         batch_size=batch_size, \n",
    "                         epochs=epochs, \n",
    "                         validation_data=(X_test, \n",
    "                                          Y_test),\n",
    "                         verbose=2)\n",
    "                         #callbacks=[checkpointer, early_stopping], \n",
    "    \n",
    "print('\\n\\nTraining time: {:.3f} sec\\n'.format(time.process_time() - start_time))\n",
    "\n",
    "score = model.evaluate(X_test, Y_test, verbose=0)\n",
    "\n",
    "print('Test score:', score[0])\n",
    "print('Test accuracy:', score[1])"
   ]
  },
  {
   "cell_type": "code",
   "execution_count": 41,
   "id": "2c9bc638-8e21-453b-92e3-5def2d399179",
   "metadata": {},
   "outputs": [
    {
     "name": "stdout",
     "output_type": "stream",
     "text": [
      "58/58 [==============================] - 11s 194ms/step\n"
     ]
    },
    {
     "data": {
      "text/plain": [
       "<AxesSubplot:>"
      ]
     },
     "execution_count": 41,
     "metadata": {},
     "output_type": "execute_result"
    },
    {
     "data": {
      "image/png": "[encoded data removed]",
      "text/plain": [
       "<Figure size 640x480 with 2 Axes>"
      ]
     },
     "metadata": {},
     "output_type": "display_data"
    }
   ],
   "source": [
    "# Get predictions for the test set\n",
    "Y_pred = model.predict(X_test)\n",
    "Y_pred_classes = np.argmax(Y_pred, axis=1)\n",
    "Y_true = np.argmax(Y_test, axis=1)\n",
    "\n",
    "# Create confusion matrix\n",
    "conf_mat = confusion_matrix(Y_true, Y_pred_classes)\n",
    "\n",
    "# Create heatmap using Seaborn\n",
    "sns.heatmap(conf_mat, annot=True, fmt='d', cmap='Blues')"
   ]
  },
  {
   "cell_type": "code",
   "execution_count": 98,
   "id": "028a018f-2183-434c-88ee-a3f70709660e",
   "metadata": {},
   "outputs": [],
   "source": [
    "model.save('CNN.h5')"
   ]
  },
  {
   "cell_type": "code",
   "execution_count": 78,
   "id": "f44a3b89-e2d3-4e8c-a74e-3fd1a456a6ba",
   "metadata": {},
   "outputs": [
    {
     "data": {
      "text/plain": [
       "[]"
      ]
     },
     "execution_count": 78,
     "metadata": {},
     "output_type": "execute_result"
    }
   ],
   "source": [
    "tf.config.list_physical_devices('GPU')"
   ]
  },
  {
   "cell_type": "code",
   "execution_count": null,
   "id": "4c228a5e-9355-429c-884e-b3e4898a747e",
   "metadata": {},
   "outputs": [],
   "source": []
  }
 ],
 "metadata": {
  "kernelspec": {
   "display_name": "Python 3 (ipykernel)",
   "language": "python",
   "name": "python3"
  },
  "language_info": {
   "codemirror_mode": {
    "name": "ipython",
    "version": 3
   },
   "file_extension": ".py",
   "mimetype": "text/x-python",
   "name": "python",
   "nbconvert_exporter": "python",
   "pygments_lexer": "ipython3",
   "version": "3.9.13"
  }
 },
 "nbformat": 4,
 "nbformat_minor": 5
}
