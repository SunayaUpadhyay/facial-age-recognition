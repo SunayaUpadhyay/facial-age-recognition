{
 "cells": [
  {
   "cell_type": "markdown",
   "id": "fe76baed-9592-4cce-987d-b5975309575b",
   "metadata": {},
   "source": [
    "# Query Answering Machine "
   ]
  },
  {
   "cell_type": "markdown",
   "id": "df3e9b14-064d-4ce9-aeda-8068cd616c13",
   "metadata": {},
   "source": [
    "Our proposed approach for facial age detection is to use a combination of feature extraction techniques, including Local Binary Pattern (LBP), Scale-Invariant Feature Transform (SIFT), and Oriented FAST and Rotated BRIEF (ORB), with the K-Nearest Neighbor (KNN) algorithm. We will evaluate the accuracy of each feature extraction technique and their combination to determine their effectiveness in capturing the relevant features for age detection.\n",
    "\n",
    "In addition, we will also investigate the use of Random Forest to further improve the accuracy of our model. By comparing the accuracy of Random Forest with our current approach, we can determine if it provides any additional benefit to our age detection task."
   ]
  },
  {
   "cell_type": "markdown",
   "id": "1b3d3833-369a-4859-a38d-91e3a11e663c",
   "metadata": {},
   "source": [
    "### Using LBP features"
   ]
  },
  {
   "cell_type": "markdown",
   "id": "3905e5d0-d64f-4023-a214-e4671de5347c",
   "metadata": {},
   "source": [
    "Local Binary Pattern (LBP) features are effective in facial age detection because they capture the texture and pattern information from facial images. It extract information about the local variations in an image by comparing the intensity values of a central pixel with its neighboring pixels."
   ]
  },
  {
   "cell_type": "markdown",
   "id": "c78f465e-c2d7-4a26-b6a7-764c13e7c739",
   "metadata": {},
   "source": [
    "#### K-NN "
   ]
  },
  {
   "cell_type": "code",
   "execution_count": 24,
   "id": "093b10fa-cc8b-4e46-962b-84f86052d774",
   "metadata": {},
   "outputs": [
    {
     "name": "stdout",
     "output_type": "stream",
     "text": [
      "Accuracy score on testing set using only LBP features: 0.47\n",
      "Accuracy score on training set using only LBP features: 0.63\n"
     ]
    }
   ],
   "source": [
    "from sklearn.metrics import accuracy_score\n",
    "from sklearn.neighbors import KNeighborsClassifier\n",
    "import warnings\n",
    "warnings.filterwarnings(\"ignore\")\n",
    "\n",
    "classifier = KNeighborsClassifier(n_neighbors=5)\n",
    "\n",
    "# Train the classifier using only LBP features\n",
    "classifier.fit(LBP_features_train, Y_train)\n",
    "\n",
    "# Make predictions using only LBP features and evaluate the accuracy on the testing set\n",
    "Y_pred_test = classifier.predict(LBP_features_test)\n",
    "accuracy_test = accuracy_score(Y_test, Y_pred_test)\n",
    "print(f\"Accuracy score on testing set using only LBP features: {accuracy_test:.2f}\")\n",
    "\n",
    "# Make predictions using only LBP features and evaluate the accuracy on the training set\n",
    "Y_pred_train = classifier.predict(LBP_features_train)\n",
    "accuracy_train = accuracy_score(Y_train, Y_pred_train)\n",
    "print(f\"Accuracy score on training set using only LBP features: {accuracy_train:.2f}\")"
   ]
  },
  {
   "cell_type": "code",
   "execution_count": 26,
   "id": "cc21024d-e398-4fbf-b5f5-a87275365eb3",
   "metadata": {},
   "outputs": [
    {
     "data": {
      "image/png": "[encoded data removed]",
      "text/plain": [
       "<Figure size 640x480 with 2 Axes>"
      ]
     },
     "metadata": {},
     "output_type": "display_data"
    }
   ],
   "source": [
    "import seaborn as sns\n",
    "from sklearn.metrics import accuracy_score, confusion_matrix\n",
    "# Generate the confusion matrix for the testing set\n",
    "cm = confusion_matrix(Y_test, Y_pred_test)\n",
    "\n",
    "# Plot the confusion matrix using Seaborn\n",
    "sns.heatmap(cm, annot=True, cmap='Blues', fmt='g')\n",
    "plt.title('Confusion Matrix')\n",
    "plt.xlabel('Predicted Labels')\n",
    "plt.ylabel('True Labels')\n",
    "plt.show()"
   ]
  },
  {
   "cell_type": "markdown",
   "id": "f36dcfbf-b6f7-417f-bdb7-140ad6bdfe88",
   "metadata": {},
   "source": [
    "It's worth noting that in this specific problem, the training and testing scores are very similar. K-Nearest Neighbors (KNN) is a type of instance-based learning algorithm that classifies new examples based on their similarity to training examples. \n",
    "\n",
    "When the differences between classes are subtle, KNN can be less effective than other algorithms. In such cases, it may be worth exploring other approaches, such as Random Forest, which is better suited for larger datasets with many features and can achieve better performance than KNN. "
   ]
  },
  {
   "cell_type": "markdown",
   "id": "623ca064-7039-410a-8d5a-d6c65464ad46",
   "metadata": {},
   "source": [
    "#### Random Forest"
   ]
  },
  {
   "cell_type": "code",
   "execution_count": null,
   "id": "5aeed72e-6939-489e-beac-cee4413298c6",
   "metadata": {},
   "outputs": [],
   "source": [
    "from sklearn.ensemble import RandomForestClassifier\n",
    "\n",
    "# Create a Random Forest classifier\n",
    "clf = RandomForestClassifier(n_estimators=20, random_state=99)\n",
    "\n",
    "# Train the classifier on the ORB features of the training set\n",
    "clf.fit(LBP_features_train, Y_train)\n",
    "\n",
    "# Make predictions using only LBP features and evaluate the accuracy on the testing set\n",
    "Y_pred_test = clf.predict(LBP_features_test)\n",
    "accuracy_test = accuracy_score(Y_test, Y_pred_test)\n",
    "print(f\"Accuracy score on testing set using only LBP features: {accuracy_test:.2f}\")\n",
    "\n",
    "# Make predictions using only LBP features and evaluate the accuracy on the training set\n",
    "Y_pred_train = clf.predict(LBP_features_train)\n",
    "accuracy_train = accuracy_score(Y_train, Y_pred_train)\n",
    "print(f\"Accuracy score on training set using only LBP features: {accuracy_train:.2f}\")"
   ]
  },
  {
   "cell_type": "code",
   "execution_count": null,
   "id": "08d6ae4b-3452-4b91-8067-986a5bee57f9",
   "metadata": {},
   "outputs": [],
   "source": [
    "# Create a Random Forest classifier\n",
    "clf = RandomForestClassifier(max_depth=15, n_estimators=20, random_state=99, max_features=0.7,max_samples=0.65)\n",
    "\n",
    "# Train the classifier on the ORB features of the training set\n",
    "clf.fit(LBP_features_train, Y_train)\n",
    "\n",
    "# Make predictions using only LBP features and evaluate the accuracy on the testing set\n",
    "Y_pred_test = clf.predict(LBP_features_test)\n",
    "accuracy_test = accuracy_score(Y_test, Y_pred_test)\n",
    "print(f\"Accuracy score on testing set using only LBP features: {accuracy_test:.2f}\")\n",
    "\n",
    "# Make predictions using only LBP features and evaluate the accuracy on the training set\n",
    "Y_pred_train = clf.predict(LBP_features_train)\n",
    "accuracy_train = accuracy_score(Y_train, Y_pred_train)\n",
    "print(f\"Accuracy score on training set using only LBP features: {accuracy_train:.2f}\")"
   ]
  },
  {
   "cell_type": "markdown",
   "id": "977e6bda-f3c0-4848-ac28-fd8c2acbcaea",
   "metadata": {},
   "source": [
    "We try the Random Forest with different parameters to see if there's any change in accuracy. And this is the best we could do for the testing set. "
   ]
  },
  {
   "cell_type": "markdown",
   "id": "c03dfb79-e053-4597-b060-768d4a29ccee",
   "metadata": {},
   "source": [
    "### Using ORB features"
   ]
  },
  {
   "cell_type": "markdown",
   "id": "218dd731-a66d-4b4a-867f-386c80962f6b",
   "metadata": {},
   "source": [
    "#### KNN "
   ]
  },
  {
   "cell_type": "code",
   "execution_count": null,
   "id": "861396ef-eef7-4f50-93fc-a7765205659a",
   "metadata": {},
   "outputs": [],
   "source": [
    "# Initialize the KNN classifier\n",
    "classifier = KNeighborsClassifier(n_neighbors=5)\n",
    "\n",
    "# Train the classifier using only ORB features\n",
    "classifier.fit(ORB_features_train, Y_train)\n",
    "\n",
    "# Make predictions using only ORB features and evaluate the accuracy on the testing set\n",
    "Y_pred_test = classifier.predict(ORB_features_test)\n",
    "accuracy_test = accuracy_score(Y_test, Y_pred_test)\n",
    "print(f\"Accuracy score on testing set using only ORB features: {accuracy_test:.2f}\")\n",
    "\n",
    "# Make predictions using only ORB features and evaluate the accuracy on the training set\n",
    "Y_pred_train = classifier.predict(ORB_features_train)\n",
    "accuracy_train = accuracy_score(Y_train, Y_pred_train)\n",
    "print(f\"Accuracy score on training set using only ORB features: {accuracy_train:.2f}\")"
   ]
  },
  {
   "cell_type": "markdown",
   "id": "5e805be8-0b11-4b2d-a34a-c604c02309d2",
   "metadata": {},
   "source": [
    "We see that it's a similar case when using KNN with ORB features too."
   ]
  },
  {
   "cell_type": "markdown",
   "id": "ca475d69-0559-40fb-9166-ab1218b8428d",
   "metadata": {},
   "source": [
    "#### Random Forest"
   ]
  },
  {
   "cell_type": "code",
   "execution_count": null,
   "id": "0f809298-e2c4-4927-8f42-c322b457a92e",
   "metadata": {},
   "outputs": [],
   "source": [
    "# Create a Random Forest classifier\n",
    "clf = RandomForestClassifier(n_estimators=100, random_state=99)\n",
    "\n",
    "# Train the classifier on the ORB features of the training set\n",
    "clf.fit(ORB_features_train, Y_train)\n",
    "\n",
    "# Make predictions using only ORB features and evaluate the accuracy on the testing set\n",
    "Y_pred_test = clf.predict(ORB_features_test)\n",
    "accuracy_test = accuracy_score(Y_test, Y_pred_test)\n",
    "print(f\"Accuracy score on testing set using only ORB features: {accuracy_test:.2f}\")\n",
    "\n",
    "# Make predictions using only ORB features and evaluate the accuracy on the training set\n",
    "Y_pred_train = clf.predict(ORB_features_train)\n",
    "accuracy_train = accuracy_score(Y_train, Y_pred_train)\n",
    "print(f\"Accuracy score on training set using only ORB features: {accuracy_train:.2f}\")"
   ]
  },
  {
   "cell_type": "markdown",
   "id": "d57657d1-396a-4f68-9d15-f11bbf6f4a87",
   "metadata": {},
   "source": [
    "We can see that the two featuers LBP and ORB yeild similar results."
   ]
  },
  {
   "cell_type": "markdown",
   "id": "1b30616a-81fb-449b-baae-03ae67b94fcd",
   "metadata": {},
   "source": [
    "### SIFT"
   ]
  },
  {
   "cell_type": "markdown",
   "id": "e939bb82-21a8-47ac-9892-eaaab6df5d85",
   "metadata": {},
   "source": [
    "Let us look at SIFT just for the sake of it."
   ]
  },
  {
   "cell_type": "markdown",
   "id": "2a888912-194c-4a3f-9bd5-6caabc123686",
   "metadata": {},
   "source": [
    "#### KNN"
   ]
  },
  {
   "cell_type": "code",
   "execution_count": null,
   "id": "3d2d4da8-b953-4b7b-b72f-c12407c734be",
   "metadata": {},
   "outputs": [],
   "source": [
    "# Initialize the KNN classifier\n",
    "classifier = KNeighborsClassifier(n_neighbors=5)\n",
    "\n",
    "# Train the classifier using only SIFT features\n",
    "classifier.fit(SIFT_features_train, Y_train)\n",
    "\n",
    "# Make predictions using only SIFT features and evaluate the accuracy on the testing set\n",
    "Y_pred_test = classifier.predict(SIFT_features_test)\n",
    "accuracy_test = accuracy_score(Y_test, Y_pred_test)\n",
    "print(f\"Accuracy score on testing set using only SIFT features: {accuracy_test:.2f}\")\n",
    "\n",
    "# Make predictions using only SIFT features and evaluate the accuracy on the training set\n",
    "Y_pred_train = classifier.predict(SIFT_features_train)\n",
    "accuracy_train = accuracy_score(Y_train, Y_pred_train)\n",
    "print(f\"Accuracy score on training set using only SIFT features: {accuracy_train:.2f}\")"
   ]
  },
  {
   "cell_type": "markdown",
   "id": "5cd3d9dc-8793-4519-86d2-a159c43d371c",
   "metadata": {},
   "source": [
    "#### Random Forest"
   ]
  },
  {
   "cell_type": "code",
   "execution_count": null,
   "id": "080d71b4-4a18-4676-a799-3f4f857a72d9",
   "metadata": {},
   "outputs": [],
   "source": [
    "# Create a Random Forest classifier\n",
    "clf = RandomForestClassifier(n_estimators=100, random_state=99)\n",
    "\n",
    "# Train the classifier on the ORB features of the training set\n",
    "clf.fit(SIFT_features_train, Y_train)\n",
    "\n",
    "# Make predictions using only SIFT features and evaluate the accuracy on the testing set\n",
    "Y_pred_test = clf.predict(SIFT_features_test)\n",
    "accuracy_test = accuracy_score(Y_test, Y_pred_test)\n",
    "print(f\"Accuracy score on testing set using only SIFT features: {accuracy_test:.2f}\")\n",
    "\n",
    "# Make predictions using only SIFT features and evaluate the accuracy on the training set\n",
    "Y_pred_train = clf.predict(SIFT_features_train)\n",
    "accuracy_train = accuracy_score(Y_train, Y_pred_train)\n",
    "print(f\"Accuracy score on training set using only SIFT features: {accuracy_train:.2f}\")"
   ]
  },
  {
   "cell_type": "markdown",
   "id": "3500b024-284e-48e6-b8b2-6c0085ce2ab4",
   "metadata": {},
   "source": [
    "Seems to be a similar case of overfitting."
   ]
  },
  {
   "cell_type": "markdown",
   "id": "647a9e3b-623c-43c7-9311-878e90f1066a",
   "metadata": {},
   "source": [
    "### ALL features"
   ]
  },
  {
   "cell_type": "markdown",
   "id": "165a2944-ce5b-4fdc-85b1-2b6bb0c765dd",
   "metadata": {},
   "source": [
    "Now we will make use of all the combined features and see how KNN works with it."
   ]
  },
  {
   "cell_type": "markdown",
   "id": "b3991605-0e05-4c58-a411-802a66315339",
   "metadata": {},
   "source": [
    "### Iteration 1"
   ]
  },
  {
   "cell_type": "markdown",
   "id": "8645b79c-63ef-4d14-ad39-ef207341582a",
   "metadata": {},
   "source": [
    "#### KNN"
   ]
  },
  {
   "cell_type": "code",
   "execution_count": null,
   "id": "5e7752e5-0a78-486e-9b97-ae81cd131efe",
   "metadata": {},
   "outputs": [],
   "source": [
    "# Train the classifier using all features\n",
    "classifier.fit(all_features_train, Y_train)\n",
    "\n",
    "# Make predictions using  all features and evaluate the accuracy on the testing set\n",
    "Y_pred_test = classifier.predict(all_features_test)\n",
    "accuracy_test = accuracy_score(Y_test, Y_pred_test)\n",
    "print(f\"Accuracy score on testing set using all features: {accuracy_test:.2f}\")\n",
    "\n",
    "# Make predictions using only SIFT features and evaluate the accuracy on the training set\n",
    "Y_pred_train = classifier.predict(all_features_train)\n",
    "accuracy_train = accuracy_score(Y_train, Y_pred_train)\n",
    "print(f\"Accuracy score on training set using all features: {accuracy_train:.2f}\")"
   ]
  },
  {
   "cell_type": "code",
   "execution_count": null,
   "id": "ae50083c-dacd-42a1-8189-b2d1ea0e5b04",
   "metadata": {},
   "outputs": [],
   "source": [
    "from sklearn.model_selection import GridSearchCV\n",
    "\n",
    "k_values = [5, 7, 11, 13, 15]\n",
    "\n",
    "# Define the parameter grid for grid search\n",
    "param_grid = {'n_neighbors': k_values}\n",
    "\n",
    "# Perform grid search with 10-fold cross validation\n",
    "grid_search = GridSearchCV(KNeighborsClassifier(), param_grid, cv=10, scoring='accuracy')\n",
    "grid_search.fit(all_features_train, Y_train)\n",
    "\n",
    "# Print the results\n",
    "cv_results = grid_search.cv_results_\n",
    "for mean_score, std_score, k in zip(cv_results['mean_test_score'], cv_results['std_test_score'], cv_results['params']):\n",
    "    print(\"k = %d mean accuracy = %0.4f std accuracy = %0.4f\" % (k['n_neighbors'], mean_score, std_score))"
   ]
  },
  {
   "cell_type": "markdown",
   "id": "e81deabe-5ac4-416a-829d-522758f3086f",
   "metadata": {},
   "source": [
    "### Iteration 2"
   ]
  },
  {
   "cell_type": "markdown",
   "id": "e4ccfe40-1e25-4a07-b5fb-e379941058ba",
   "metadata": {},
   "source": [
    "#### Random Forest"
   ]
  },
  {
   "cell_type": "code",
   "execution_count": null,
   "id": "5d57240f-fa37-46d7-9f3b-d2e84cba7b30",
   "metadata": {},
   "outputs": [],
   "source": [
    "# Create a Random Forest classifier\n",
    "clf = RandomForestClassifier(n_estimators=100, random_state=99)\n",
    "\n",
    "# Train the classifier on the ORB features of the training set\n",
    "clf.fit(all_features_train, Y_train)\n",
    "\n",
    "# Make predictions using  all features and evaluate the accuracy on the testing set\n",
    "Y_pred_test = clf.predict(all_features_test)\n",
    "accuracy_test = accuracy_score(Y_test, Y_pred_test)\n",
    "print(f\"Accuracy score on testing set using all features: {accuracy_test:.2f}\")\n",
    "\n",
    "# Make predictions using only SIFT features and evaluate the accuracy on the training set\n",
    "Y_pred_train = clf.predict(all_features_train)\n",
    "accuracy_train = accuracy_score(Y_train, Y_pred_train)\n",
    "print(f\"Accuracy score on training set using all features: {accuracy_train:.2f}\")"
   ]
  },
  {
   "cell_type": "code",
   "execution_count": null,
   "id": "7d17a7ce-99d0-4b1e-9748-99794050f635",
   "metadata": {},
   "outputs": [],
   "source": [
    "from sklearn.model_selection import GridSearchCV\n",
    "\n",
    "# Create a Random Forest classifier\n",
    "clf = RandomForestClassifier(n_estimators=100, random_state=99)\n",
    "\n",
    "# Define the parameter grid to search over\n",
    "param_grid = {\n",
    "    'max_depth': [5, 10, 15, 20, 25],\n",
    "    'n_estimators': [50, 100, 150, 200, 250]\n",
    "}\n",
    "\n",
    "# Perform grid search cross-validation\n",
    "grid_search = GridSearchCV(clf, param_grid=param_grid, cv=5)\n",
    "grid_search.fit(all_features_train, Y_train)\n",
    "\n",
    "print(\"Best hyperparameters:\", grid_search.best_params_)\n",
    "print(\"Accuracy score:\", grid_search.best_score_)"
   ]
  },
  {
   "cell_type": "markdown",
   "id": "86f1f0da-bc97-42fc-b998-e8e36077749c",
   "metadata": {},
   "source": [
    "We perform a grid search over hyperparameters max_depth and n_estimators for a Random Forest classifier."
   ]
  },
  {
   "cell_type": "markdown",
   "id": "3b862c06-3aaf-4f32-a523-195226b57bb5",
   "metadata": {},
   "source": [
    "### Iteration 3"
   ]
  },
  {
   "cell_type": "markdown",
   "id": "ec2248ef-64d5-4142-95a2-be9f3fb62534",
   "metadata": {},
   "source": [
    "### CNN"
   ]
  },
  {
   "cell_type": "markdown",
   "id": "6028f890-7d89-4d9c-86f5-dd85ef08f595",
   "metadata": {},
   "source": [
    "We have already explored KNN and Random Forest algorithms for facial classification, but we found that they were not suitable for this specific problem because the classes themselves are very similar. Furthermore, CNNs have several advantages over traditional machine learning algorithms for image-based classification tasks, including the ability to learn complex, hierarchical features directly from the raw image data and the ability to handle variations in image appearance."
   ]
  },
  {
   "cell_type": "code",
   "execution_count": 33,
   "id": "2445ad19-1b84-46f7-9a85-88b281a577c4",
   "metadata": {},
   "outputs": [],
   "source": [
    "from sklearn.model_selection import train_test_split\n",
    "\n",
    "X_train, X_test, Y_train, Y_test = train_test_split(images, df_labels, test_size=0.25, random_state=99)"
   ]
  },
  {
   "cell_type": "markdown",
   "id": "66d48295-c2a0-4c8c-b870-645166c47000",
   "metadata": {},
   "source": [
    "First we'll use only a limited amount of dataset to test what parameter for CNN will give us the best result. Once we have the best parameters to use, then we will train the model and export it."
   ]
  },
  {
   "cell_type": "code",
   "execution_count": 34,
   "id": "b27c978f-5f7c-480a-9872-368374d051f7",
   "metadata": {},
   "outputs": [
    {
     "name": "stdout",
     "output_type": "stream",
     "text": [
      "Model: \"sequential_1\"\n",
      "_________________________________________________________________\n",
      " Layer (type)                Output Shape              Param #   \n",
      "=================================================================\n",
      " conv2d_3 (Conv2D)           (None, 126, 126, 32)      896       \n",
      "                                                                 \n",
      " max_pooling2d_3 (MaxPooling  (None, 63, 63, 32)       0         \n",
      " 2D)                                                             \n",
      "                                                                 \n",
      " conv2d_4 (Conv2D)           (None, 61, 61, 64)        18496     \n",
      "                                                                 \n",
      " max_pooling2d_4 (MaxPooling  (None, 30, 30, 64)       0         \n",
      " 2D)                                                             \n",
      "                                                                 \n",
      " conv2d_5 (Conv2D)           (None, 28, 28, 128)       73856     \n",
      "                                                                 \n",
      " max_pooling2d_5 (MaxPooling  (None, 14, 14, 128)      0         \n",
      " 2D)                                                             \n",
      "                                                                 \n",
      " flatten_1 (Flatten)         (None, 25088)             0         \n",
      "                                                                 \n",
      " dense_2 (Dense)             (None, 128)               3211392   \n",
      "                                                                 \n",
      " dense_3 (Dense)             (None, 3)                 387       \n",
      "                                                                 \n",
      "=================================================================\n",
      "Total params: 3,305,027\n",
      "Trainable params: 3,305,027\n",
      "Non-trainable params: 0\n",
      "_________________________________________________________________\n"
     ]
    }
   ],
   "source": [
    "import tensorflow as tf\n",
    "\n",
    "from keras.models import Sequential\n",
    "from keras.layers import Conv2D, MaxPooling2D, Flatten, Dense\n",
    "from keras.utils import np_utils\n",
    "\n",
    "input_shape = (128, 128, 3)\n",
    "num_classes = 3\n",
    "\n",
    "# Define CNN architecture\n",
    "model = tf.keras.models.Sequential()\n",
    "model.add(Conv2D(32, (3, 3), activation='relu', input_shape=input_shape))\n",
    "model.add(MaxPooling2D((2, 2)))\n",
    "model.add(Conv2D(64, (3, 3), activation='relu'))\n",
    "model.add(MaxPooling2D((2, 2)))\n",
    "model.add(Conv2D(128, (3, 3), activation='relu'))\n",
    "model.add(MaxPooling2D((2, 2)))\n",
    "model.add(Flatten())\n",
    "model.add(Dense(128, activation='relu'))\n",
    "model.add(Dense(num_classes, activation='softmax'))\n",
    "model.summary()\n"
   ]
  },
  {
   "cell_type": "code",
   "execution_count": 29,
   "id": "b4d004ab-1a2f-418b-bc34-7d61f26798ab",
   "metadata": {},
   "outputs": [],
   "source": [
    "num_of_images = len(X_train)\n",
    "X_train_reshaped = np.empty((num_of_images, 128, 128, 3), dtype=np.uint8)\n",
    "\n",
    "# Iterate over each tuple in X_train and assign the image_array to the corresponding position in X_train_reshaped\n",
    "for i, (image_id, image_array) in enumerate(X_train):\n",
    "    X_train_reshaped[i] = image_array[:128, :128, :3]\n",
    "\n",
    "num_of_images = len(X_test)\n",
    "X_test_reshaped = np.empty((num_of_images, 128, 128, 3), dtype=np.uint8)\n",
    "\n",
    "# Iterate over each tuple in X_train and assign the image_array to the corresponding position in X_train_reshaped\n",
    "for i, (image_id, image_array) in enumerate(X_test):\n",
    "    X_test_reshaped[i] = image_array[:128, :128, :3]\n",
    "  \n"
   ]
  },
  {
   "cell_type": "code",
   "execution_count": 30,
   "id": "5d8827d6-ab2e-4ec7-a292-361ef897e87c",
   "metadata": {},
   "outputs": [],
   "source": [
    "X_train = X_train_reshaped\n",
    "X_test = X_test_reshaped\n",
    "Y_train = np_utils.to_categorical(Y_train, 3)\n",
    "Y_test = np_utils.to_categorical(Y_test, 3)"
   ]
  },
  {
   "cell_type": "code",
   "execution_count": 32,
   "id": "0f5482f4-9192-4d14-9848-7ab6f38cbbd2",
   "metadata": {},
   "outputs": [],
   "source": [
    "model.compile(loss='categorical_crossentropy', \n",
    "                  optimizer='adam', metrics=['accuracy'])"
   ]
  },
  {
   "cell_type": "code",
   "execution_count": null,
   "id": "c0ac38ef-5349-4252-9100-3a3bb23a6c4b",
   "metadata": {},
   "outputs": [],
   "source": [
    "import time\n",
    "# Train\n",
    "batch_size = 128\n",
    "epochs = 10\n",
    "\n",
    "start_time = time.process_time()\n",
    "        \n",
    "training = model.fit(X_train, Y_train, \n",
    "                         #batch_size=batch_size, \n",
    "                         epochs=epochs, \n",
    "                         validation_data=(X_test, \n",
    "                                          Y_test),\n",
    "                         verbose=2)\n",
    "                         #callbacks=[checkpointer, early_stopping], \n",
    "    \n",
    "print('\\n\\nTraining time: {:.3f} sec\\n'.format(time.process_time() - start_time))\n",
    "\n",
    "score = model.evaluate(X_test, Y_test, verbose=0)\n",
    "\n",
    "print('Test score:', score[0])\n",
    "print('Test accuracy:', score[1])"
   ]
  },
  {
   "cell_type": "code",
   "execution_count": null,
   "id": "ae5c07e0-6057-4c06-8322-249b3179ec2d",
   "metadata": {},
   "outputs": [],
   "source": [
    "import time\n",
    "# Train\n",
    "batch_size = 128\n",
    "epochs = 30\n",
    "\n",
    "start_time = time.process_time()\n",
    "        \n",
    "training = model.fit(X_train[0:1000], Y_train[0:1000], \n",
    "                         #batch_size=batch_size, \n",
    "                         epochs=epochs, \n",
    "                         validation_data=(X_test[0:1000], \n",
    "                                          Y_test[0:1000]),\n",
    "                         verbose=2)\n",
    "                         #callbacks=[checkpointer, early_stopping], \n",
    "    \n",
    "print('\\n\\nTraining time: {:.3f} sec\\n'.format(time.process_time() - start_time))\n",
    "\n",
    "score = model.evaluate(X_test, Y_test, verbose=0)\n",
    "\n",
    "print('Test score:', score[0])\n",
    "print('Test accuracy:', score[1])"
   ]
  }
 ],
 "metadata": {
  "kernelspec": {
   "display_name": "Python 3 (ipykernel)",
   "language": "python",
   "name": "python3"
  },
  "language_info": {
   "codemirror_mode": {
    "name": "ipython",
    "version": 3
   },
   "file_extension": ".py",
   "mimetype": "text/x-python",
   "name": "python",
   "nbconvert_exporter": "python",
   "pygments_lexer": "ipython3",
   "version": "3.9.13"
  }
 },
 "nbformat": 4,
 "nbformat_minor": 5
}
